{
 "cells": [
  {
   "cell_type": "code",
   "execution_count": 1,
   "id": "1caa25f7-f9c0-48c0-9b4c-9c66c8d2f41b",
   "metadata": {},
   "outputs": [
    {
     "data": {
      "text/html": [
       "<pre style=\"white-space:pre;overflow-x:auto;line-height:normal;font-family:Menlo,'DejaVu Sans Mono',consolas,'Courier New',monospace\"><span style=\"color: #7fbfbf; text-decoration-color: #7fbfbf\">                    </span><span style=\"color: #000080; text-decoration-color: #000080\">INFO    </span> Resolved project path as: <span style=\"color: #800080; text-decoration-color: #800080\">/Users/joaopedroc.dias/Desktop/</span><span style=\"color: #ff00ff; text-decoration-color: #ff00ff\">case_gb.</span>      <a href=\"file:///Users/joaopedroc.dias/Desktop/case_gb/.venv/lib/python3.9/site-packages/kedro/ipython/__init__.py\" target=\"_blank\"><span style=\"color: #7f7f7f; text-decoration-color: #7f7f7f\">__init__.py</span></a><span style=\"color: #7f7f7f; text-decoration-color: #7f7f7f\">:</span><a href=\"file:///Users/joaopedroc.dias/Desktop/case_gb/.venv/lib/python3.9/site-packages/kedro/ipython/__init__.py#178\" target=\"_blank\"><span style=\"color: #7f7f7f; text-decoration-color: #7f7f7f\">178</span></a>\n",
       "<span style=\"color: #7fbfbf; text-decoration-color: #7fbfbf\">                    </span>         To set a different path, run <span style=\"color: #008000; text-decoration-color: #008000\">'%reload_kedro &lt;project_root&gt;'</span>            <span style=\"color: #7f7f7f; text-decoration-color: #7f7f7f\">               </span>\n",
       "</pre>\n"
      ],
      "text/plain": [
       "\u001b[2;36m                   \u001b[0m\u001b[2;36m \u001b[0m\u001b[34mINFO    \u001b[0m Resolved project path as: \u001b[35m/Users/joaopedroc.dias/Desktop/\u001b[0m\u001b[95mcase_gb.\u001b[0m      \u001b]8;id=845386;file:///Users/joaopedroc.dias/Desktop/case_gb/.venv/lib/python3.9/site-packages/kedro/ipython/__init__.py\u001b\\\u001b[2m__init__.py\u001b[0m\u001b]8;;\u001b\\\u001b[2m:\u001b[0m\u001b]8;id=761078;file:///Users/joaopedroc.dias/Desktop/case_gb/.venv/lib/python3.9/site-packages/kedro/ipython/__init__.py#178\u001b\\\u001b[2m178\u001b[0m\u001b]8;;\u001b\\\n",
       "\u001b[2;36m                    \u001b[0m         To set a different path, run \u001b[32m'%reload_kedro \u001b[0m\u001b[32m<\u001b[0m\u001b[32mproject_root\u001b[0m\u001b[32m>\u001b[0m\u001b[32m'\u001b[0m            \u001b[2m               \u001b[0m\n"
      ]
     },
     "metadata": {},
     "output_type": "display_data"
    },
    {
     "data": {
      "text/html": [
       "<pre style=\"white-space:pre;overflow-x:auto;line-height:normal;font-family:Menlo,'DejaVu Sans Mono',consolas,'Courier New',monospace\"><span style=\"color: #7fbfbf; text-decoration-color: #7fbfbf\">                    </span><span style=\"color: #000080; text-decoration-color: #000080\">INFO    </span> Kedro is sending anonymous usage data with the sole purpose of improving <a href=\"file:///Users/joaopedroc.dias/Desktop/case_gb/.venv/lib/python3.9/site-packages/kedro_telemetry/plugin.py\" target=\"_blank\"><span style=\"color: #7f7f7f; text-decoration-color: #7f7f7f\">plugin.py</span></a><span style=\"color: #7f7f7f; text-decoration-color: #7f7f7f\">:</span><a href=\"file:///Users/joaopedroc.dias/Desktop/case_gb/.venv/lib/python3.9/site-packages/kedro_telemetry/plugin.py#233\" target=\"_blank\"><span style=\"color: #7f7f7f; text-decoration-color: #7f7f7f\">233</span></a>\n",
       "<span style=\"color: #7fbfbf; text-decoration-color: #7fbfbf\">                    </span>         the product. No personal data or IP addresses are stored on our side. If <span style=\"color: #7f7f7f; text-decoration-color: #7f7f7f\">             </span>\n",
       "<span style=\"color: #7fbfbf; text-decoration-color: #7fbfbf\">                    </span>         you want to opt out, set the `KEDRO_DISABLE_TELEMETRY` or `DO_NOT_TRACK` <span style=\"color: #7f7f7f; text-decoration-color: #7f7f7f\">             </span>\n",
       "<span style=\"color: #7fbfbf; text-decoration-color: #7fbfbf\">                    </span>         environment variables, or create a `.telemetry` file in the current      <span style=\"color: #7f7f7f; text-decoration-color: #7f7f7f\">             </span>\n",
       "<span style=\"color: #7fbfbf; text-decoration-color: #7fbfbf\">                    </span>         working directory with the contents `consent: false`. Read more at       <span style=\"color: #7f7f7f; text-decoration-color: #7f7f7f\">             </span>\n",
       "<span style=\"color: #7fbfbf; text-decoration-color: #7fbfbf\">                    </span>         <span style=\"color: #0000ff; text-decoration-color: #0000ff; text-decoration: underline\">https://docs.kedro.org/en/stable/configuration/telemetry.html</span>            <span style=\"color: #7f7f7f; text-decoration-color: #7f7f7f\">             </span>\n",
       "</pre>\n"
      ],
      "text/plain": [
       "\u001b[2;36m                   \u001b[0m\u001b[2;36m \u001b[0m\u001b[34mINFO    \u001b[0m Kedro is sending anonymous usage data with the sole purpose of improving \u001b]8;id=948484;file:///Users/joaopedroc.dias/Desktop/case_gb/.venv/lib/python3.9/site-packages/kedro_telemetry/plugin.py\u001b\\\u001b[2mplugin.py\u001b[0m\u001b]8;;\u001b\\\u001b[2m:\u001b[0m\u001b]8;id=102247;file:///Users/joaopedroc.dias/Desktop/case_gb/.venv/lib/python3.9/site-packages/kedro_telemetry/plugin.py#233\u001b\\\u001b[2m233\u001b[0m\u001b]8;;\u001b\\\n",
       "\u001b[2;36m                    \u001b[0m         the product. No personal data or IP addresses are stored on our side. If \u001b[2m             \u001b[0m\n",
       "\u001b[2;36m                    \u001b[0m         you want to opt out, set the `KEDRO_DISABLE_TELEMETRY` or `DO_NOT_TRACK` \u001b[2m             \u001b[0m\n",
       "\u001b[2;36m                    \u001b[0m         environment variables, or create a `.telemetry` file in the current      \u001b[2m             \u001b[0m\n",
       "\u001b[2;36m                    \u001b[0m         working directory with the contents `consent: false`. Read more at       \u001b[2m             \u001b[0m\n",
       "\u001b[2;36m                    \u001b[0m         \u001b[4;94mhttps://docs.kedro.org/en/stable/configuration/telemetry.html\u001b[0m            \u001b[2m             \u001b[0m\n"
      ]
     },
     "metadata": {},
     "output_type": "display_data"
    },
    {
     "data": {
      "text/html": [
       "<pre style=\"white-space:pre;overflow-x:auto;line-height:normal;font-family:Menlo,'DejaVu Sans Mono',consolas,'Courier New',monospace\"><span style=\"color: #7fbfbf; text-decoration-color: #7fbfbf\">[12/30/24 02:09:34] </span><span style=\"color: #000080; text-decoration-color: #000080\">INFO    </span> Kedro project promo-sales-insights                                     <a href=\"file:///Users/joaopedroc.dias/Desktop/case_gb/.venv/lib/python3.9/site-packages/kedro/ipython/__init__.py\" target=\"_blank\"><span style=\"color: #7f7f7f; text-decoration-color: #7f7f7f\">__init__.py</span></a><span style=\"color: #7f7f7f; text-decoration-color: #7f7f7f\">:</span><a href=\"file:///Users/joaopedroc.dias/Desktop/case_gb/.venv/lib/python3.9/site-packages/kedro/ipython/__init__.py#144\" target=\"_blank\"><span style=\"color: #7f7f7f; text-decoration-color: #7f7f7f\">144</span></a>\n",
       "</pre>\n"
      ],
      "text/plain": [
       "\u001b[2;36m[12/30/24 02:09:34]\u001b[0m\u001b[2;36m \u001b[0m\u001b[34mINFO    \u001b[0m Kedro project promo-sales-insights                                     \u001b]8;id=450985;file:///Users/joaopedroc.dias/Desktop/case_gb/.venv/lib/python3.9/site-packages/kedro/ipython/__init__.py\u001b\\\u001b[2m__init__.py\u001b[0m\u001b]8;;\u001b\\\u001b[2m:\u001b[0m\u001b]8;id=260904;file:///Users/joaopedroc.dias/Desktop/case_gb/.venv/lib/python3.9/site-packages/kedro/ipython/__init__.py#144\u001b\\\u001b[2m144\u001b[0m\u001b]8;;\u001b\\\n"
      ]
     },
     "metadata": {},
     "output_type": "display_data"
    },
    {
     "data": {
      "text/html": [
       "<pre style=\"white-space:pre;overflow-x:auto;line-height:normal;font-family:Menlo,'DejaVu Sans Mono',consolas,'Courier New',monospace\"><span style=\"color: #7fbfbf; text-decoration-color: #7fbfbf\">                    </span><span style=\"color: #000080; text-decoration-color: #000080\">INFO    </span> Defined global variable <span style=\"color: #008000; text-decoration-color: #008000\">'context'</span>, <span style=\"color: #008000; text-decoration-color: #008000\">'session'</span>, <span style=\"color: #008000; text-decoration-color: #008000\">'catalog'</span> and            <a href=\"file:///Users/joaopedroc.dias/Desktop/case_gb/.venv/lib/python3.9/site-packages/kedro/ipython/__init__.py\" target=\"_blank\"><span style=\"color: #7f7f7f; text-decoration-color: #7f7f7f\">__init__.py</span></a><span style=\"color: #7f7f7f; text-decoration-color: #7f7f7f\">:</span><a href=\"file:///Users/joaopedroc.dias/Desktop/case_gb/.venv/lib/python3.9/site-packages/kedro/ipython/__init__.py#145\" target=\"_blank\"><span style=\"color: #7f7f7f; text-decoration-color: #7f7f7f\">145</span></a>\n",
       "<span style=\"color: #7fbfbf; text-decoration-color: #7fbfbf\">                    </span>         <span style=\"color: #008000; text-decoration-color: #008000\">'pipelines'</span>                                                            <span style=\"color: #7f7f7f; text-decoration-color: #7f7f7f\">               </span>\n",
       "</pre>\n"
      ],
      "text/plain": [
       "\u001b[2;36m                   \u001b[0m\u001b[2;36m \u001b[0m\u001b[34mINFO    \u001b[0m Defined global variable \u001b[32m'context'\u001b[0m, \u001b[32m'session'\u001b[0m, \u001b[32m'catalog'\u001b[0m and            \u001b]8;id=548402;file:///Users/joaopedroc.dias/Desktop/case_gb/.venv/lib/python3.9/site-packages/kedro/ipython/__init__.py\u001b\\\u001b[2m__init__.py\u001b[0m\u001b]8;;\u001b\\\u001b[2m:\u001b[0m\u001b]8;id=938963;file:///Users/joaopedroc.dias/Desktop/case_gb/.venv/lib/python3.9/site-packages/kedro/ipython/__init__.py#145\u001b\\\u001b[2m145\u001b[0m\u001b]8;;\u001b\\\n",
       "\u001b[2;36m                    \u001b[0m         \u001b[32m'pipelines'\u001b[0m                                                            \u001b[2m               \u001b[0m\n"
      ]
     },
     "metadata": {},
     "output_type": "display_data"
    },
    {
     "data": {
      "text/html": [
       "<pre style=\"white-space:pre;overflow-x:auto;line-height:normal;font-family:Menlo,'DejaVu Sans Mono',consolas,'Courier New',monospace\"><span style=\"color: #7fbfbf; text-decoration-color: #7fbfbf\">                    </span><span style=\"color: #000080; text-decoration-color: #000080\">INFO    </span> Registered line magic <span style=\"color: #008000; text-decoration-color: #008000\">'run_viz'</span>                                        <a href=\"file:///Users/joaopedroc.dias/Desktop/case_gb/.venv/lib/python3.9/site-packages/kedro/ipython/__init__.py\" target=\"_blank\"><span style=\"color: #7f7f7f; text-decoration-color: #7f7f7f\">__init__.py</span></a><span style=\"color: #7f7f7f; text-decoration-color: #7f7f7f\">:</span><a href=\"file:///Users/joaopedroc.dias/Desktop/case_gb/.venv/lib/python3.9/site-packages/kedro/ipython/__init__.py#151\" target=\"_blank\"><span style=\"color: #7f7f7f; text-decoration-color: #7f7f7f\">151</span></a>\n",
       "</pre>\n"
      ],
      "text/plain": [
       "\u001b[2;36m                   \u001b[0m\u001b[2;36m \u001b[0m\u001b[34mINFO    \u001b[0m Registered line magic \u001b[32m'run_viz'\u001b[0m                                        \u001b]8;id=590358;file:///Users/joaopedroc.dias/Desktop/case_gb/.venv/lib/python3.9/site-packages/kedro/ipython/__init__.py\u001b\\\u001b[2m__init__.py\u001b[0m\u001b]8;;\u001b\\\u001b[2m:\u001b[0m\u001b]8;id=306962;file:///Users/joaopedroc.dias/Desktop/case_gb/.venv/lib/python3.9/site-packages/kedro/ipython/__init__.py#151\u001b\\\u001b[2m151\u001b[0m\u001b]8;;\u001b\\\n"
      ]
     },
     "metadata": {},
     "output_type": "display_data"
    }
   ],
   "source": [
    "%reload_kedro"
   ]
  },
  {
   "cell_type": "code",
   "execution_count": 2,
   "id": "84853f55456f086c",
   "metadata": {
    "ExecuteTime": {
     "end_time": "2024-12-30T03:25:16.870910Z",
     "start_time": "2024-12-30T03:25:16.867385Z"
    }
   },
   "outputs": [],
   "source": [
    "import pandas as pd\n",
    "import numpy as np\n",
    "import matplotlib.pyplot as plt\n",
    "import seaborn as sns\n",
    "import warnings\n",
    "\n",
    "warnings.filterwarnings('ignore')\n"
   ]
  },
  {
   "cell_type": "code",
   "execution_count": 3,
   "id": "f9e3a7a1831f17db",
   "metadata": {
    "ExecuteTime": {
     "end_time": "2024-12-30T03:25:19.168677Z",
     "start_time": "2024-12-30T03:25:19.020430Z"
    }
   },
   "outputs": [
    {
     "data": {
      "text/html": [
       "<pre style=\"white-space:pre;overflow-x:auto;line-height:normal;font-family:Menlo,'DejaVu Sans Mono',consolas,'Courier New',monospace\"></pre>\n"
      ],
      "text/plain": []
     },
     "metadata": {},
     "output_type": "display_data"
    },
    {
     "data": {
      "text/plain": [
       "\n",
       "\u001b[1m[\u001b[0m\n",
       "    \u001b[32m'sales'\u001b[0m,\n",
       "    \u001b[32m'treated_sales_data'\u001b[0m,\n",
       "    \u001b[32m'regressor'\u001b[0m,\n",
       "    \u001b[32m'test_data_with_predictions'\u001b[0m,\n",
       "    \u001b[32m'parameters'\u001b[0m,\n",
       "    \u001b[32m'params:columns_to_convert_to_string'\u001b[0m,\n",
       "    \u001b[32m'params:columns_to_create_dates'\u001b[0m,\n",
       "    \u001b[32m'params:derived_time_columns'\u001b[0m,\n",
       "    \u001b[32m'params:derived_time_columns.cod_ano'\u001b[0m,\n",
       "    \u001b[32m'params:derived_time_columns.semana'\u001b[0m,\n",
       "    \u001b[32m'params:derived_time_columns.data_inicio_semana'\u001b[0m,\n",
       "    \u001b[32m'params:columns_to_fill_na'\u001b[0m,\n",
       "    \u001b[32m'params:column_receita_praticada'\u001b[0m,\n",
       "    \u001b[32m'params:features_to_create'\u001b[0m,\n",
       "    \u001b[32m'params:features_to_create.desconto_percentual'\u001b[0m,\n",
       "    \u001b[32m'params:features_to_create.desconto_percentual.columns_to_use'\u001b[0m,\n",
       "    \u001b[32m'params:features_to_create.desconto_percentual.name'\u001b[0m,\n",
       "    \u001b[32m'params:features_to_create.performance'\u001b[0m,\n",
       "    \u001b[32m'params:features_to_create.performance.columns_to_use'\u001b[0m,\n",
       "    \u001b[32m'params:features_to_create.performance.labels'\u001b[0m,\n",
       "    \u001b[32m'params:features_to_create.performance.name'\u001b[0m,\n",
       "    \u001b[32m'params:features_to_create.performance.columns_to_merge_on'\u001b[0m,\n",
       "    \u001b[32m'params:features_to_create.performance.how'\u001b[0m,\n",
       "    \u001b[32m'params:features_to_create.faixa_receita'\u001b[0m,\n",
       "    \u001b[32m'params:features_to_create.faixa_receita.column_to_use'\u001b[0m,\n",
       "    \u001b[32m'params:features_to_create.faixa_receita.bins'\u001b[0m,\n",
       "    \u001b[32m'params:features_to_create.faixa_receita.labels'\u001b[0m,\n",
       "    \u001b[32m'params:features_to_create.faixa_receita.name'\u001b[0m,\n",
       "    \u001b[32m'params:features_to_create.desconto_percentual_medio'\u001b[0m,\n",
       "    \u001b[32m'params:features_to_create.desconto_percentual_medio.columns_to_group_by_and_merge'\u001b[0m,\n",
       "    \u001b[32m'params:features_to_create.desconto_percentual_medio.coluna_desconto'\u001b[0m,\n",
       "    \u001b[32m'params:features_to_create.vlr_venda_baseline'\u001b[0m,\n",
       "    \u001b[32m'params:features_to_create.vlr_venda_baseline.columns_to_use'\u001b[0m,\n",
       "    \u001b[32m'params:features_to_create.vlr_venda_baseline.name'\u001b[0m,\n",
       "    \u001b[32m'params:target_variable'\u001b[0m,\n",
       "    \u001b[32m'params:datetime_column'\u001b[0m,\n",
       "    \u001b[32m'params:prediction_column'\u001b[0m,\n",
       "    \u001b[32m'params:column_to_convert_to_str'\u001b[0m,\n",
       "    \u001b[32m'params:week_range_for_lags'\u001b[0m,\n",
       "    \u001b[32m'params:window_rolling_mean'\u001b[0m,\n",
       "    \u001b[32m'params:training_params'\u001b[0m,\n",
       "    \u001b[32m'params:training_params.random_state'\u001b[0m,\n",
       "    \u001b[32m'params:training_params.train_end_date'\u001b[0m,\n",
       "    \u001b[32m'params:training_params.test_end_date'\u001b[0m,\n",
       "    \u001b[32m'params:training_params.best_params'\u001b[0m,\n",
       "    \u001b[32m'params:training_params.best_params.n_estimators'\u001b[0m,\n",
       "    \u001b[32m'params:training_params.best_params.learning_rate'\u001b[0m,\n",
       "    \u001b[32m'params:training_params.best_params.max_depth'\u001b[0m,\n",
       "    \u001b[32m'params:training_params.best_params.num_leaves'\u001b[0m,\n",
       "    \u001b[32m'params:training_params.best_params.subsample'\u001b[0m,\n",
       "    \u001b[32m'params:training_params.best_params.colsample_bytree'\u001b[0m,\n",
       "    \u001b[32m'params:winsorize'\u001b[0m,\n",
       "    \u001b[32m'params:winsorize.column'\u001b[0m,\n",
       "    \u001b[32m'params:winsorize.new_column_name'\u001b[0m,\n",
       "    \u001b[32m'params:winsorize.lower_bound'\u001b[0m,\n",
       "    \u001b[32m'params:winsorize.upper_bound'\u001b[0m\n",
       "\u001b[1m]\u001b[0m"
      ]
     },
     "execution_count": 3,
     "metadata": {},
     "output_type": "execute_result"
    }
   ],
   "source": [
    "catalog.list()\n"
   ]
  },
  {
   "cell_type": "code",
   "execution_count": 4,
   "id": "87d63f683574f280",
   "metadata": {
    "ExecuteTime": {
     "end_time": "2024-12-30T02:57:30.110191Z",
     "start_time": "2024-12-30T02:57:30.062217Z"
    }
   },
   "outputs": [
    {
     "data": {
      "text/html": [
       "<pre style=\"white-space:pre;overflow-x:auto;line-height:normal;font-family:Menlo,'DejaVu Sans Mono',consolas,'Courier New',monospace\"><span style=\"color: #7fbfbf; text-decoration-color: #7fbfbf\">                    </span><span style=\"color: #000080; text-decoration-color: #000080\">INFO    </span> Loading data from <span style=\"color: #ff8700; text-decoration-color: #ff8700\">treated_sales_data</span> <span style=\"font-weight: bold\">(</span>CSVDataset<span style=\"font-weight: bold\">)</span><span style=\"color: #808000; text-decoration-color: #808000\">...</span>               <a href=\"file:///Users/joaopedroc.dias/Desktop/case_gb/.venv/lib/python3.9/site-packages/kedro/io/data_catalog.py\" target=\"_blank\"><span style=\"color: #7f7f7f; text-decoration-color: #7f7f7f\">data_catalog.py</span></a><span style=\"color: #7f7f7f; text-decoration-color: #7f7f7f\">:</span><a href=\"file:///Users/joaopedroc.dias/Desktop/case_gb/.venv/lib/python3.9/site-packages/kedro/io/data_catalog.py#389\" target=\"_blank\"><span style=\"color: #7f7f7f; text-decoration-color: #7f7f7f\">389</span></a>\n",
       "</pre>\n"
      ],
      "text/plain": [
       "\u001b[2;36m                   \u001b[0m\u001b[2;36m \u001b[0m\u001b[34mINFO    \u001b[0m Loading data from \u001b[38;5;208mtreated_sales_data\u001b[0m \u001b[1m(\u001b[0mCSVDataset\u001b[1m)\u001b[0m\u001b[33m...\u001b[0m               \u001b]8;id=547306;file:///Users/joaopedroc.dias/Desktop/case_gb/.venv/lib/python3.9/site-packages/kedro/io/data_catalog.py\u001b\\\u001b[2mdata_catalog.py\u001b[0m\u001b]8;;\u001b\\\u001b[2m:\u001b[0m\u001b]8;id=750592;file:///Users/joaopedroc.dias/Desktop/case_gb/.venv/lib/python3.9/site-packages/kedro/io/data_catalog.py#389\u001b\\\u001b[2m389\u001b[0m\u001b]8;;\u001b\\\n"
      ]
     },
     "metadata": {},
     "output_type": "display_data"
    }
   ],
   "source": [
    "data = catalog.load('treated_sales_data')"
   ]
  },
  {
   "cell_type": "code",
   "execution_count": 5,
   "id": "a2848208-bef1-44fc-a91e-a63f0df55501",
   "metadata": {},
   "outputs": [],
   "source": [
    "data['cod_agrupador_sap_material'] = data['cod_agrupador_sap_material'].astype(str)"
   ]
  },
  {
   "cell_type": "code",
   "execution_count": 6,
   "id": "3e4dc493975cbd7e",
   "metadata": {
    "ExecuteTime": {
     "end_time": "2024-12-30T02:57:32.640201Z",
     "start_time": "2024-12-30T02:57:32.597330Z"
    }
   },
   "outputs": [
    {
     "data": {
      "text/html": [
       "<pre style=\"white-space:pre;overflow-x:auto;line-height:normal;font-family:Menlo,'DejaVu Sans Mono',consolas,'Courier New',monospace\"></pre>\n"
      ],
      "text/plain": []
     },
     "metadata": {},
     "output_type": "display_data"
    },
    {
     "data": {
      "text/html": [
       "<div>\n",
       "<style scoped>\n",
       "    .dataframe tbody tr th:only-of-type {\n",
       "        vertical-align: middle;\n",
       "    }\n",
       "\n",
       "    .dataframe tbody tr th {\n",
       "        vertical-align: top;\n",
       "    }\n",
       "\n",
       "    .dataframe thead th {\n",
       "        text-align: right;\n",
       "    }\n",
       "</style>\n",
       "<table border=\"1\" class=\"dataframe\">\n",
       "  <thead>\n",
       "    <tr style=\"text-align: right;\">\n",
       "      <th></th>\n",
       "      <th>cod_ciclo</th>\n",
       "      <th>cod_ano</th>\n",
       "      <th>cod_canal</th>\n",
       "      <th>cod_agrupador_sap_material</th>\n",
       "      <th>cod_uf</th>\n",
       "      <th>des_categoria_material</th>\n",
       "      <th>des_subcategoria_material</th>\n",
       "      <th>des_marca_material</th>\n",
       "      <th>des_mecanica_consumidor</th>\n",
       "      <th>des_mecanica_rev</th>\n",
       "      <th>...</th>\n",
       "      <th>data_inicio_semana</th>\n",
       "      <th>desconto_percentual</th>\n",
       "      <th>faixa_receita</th>\n",
       "      <th>performance</th>\n",
       "      <th>desconto_percentual_medio</th>\n",
       "      <th>vlr_venda_baseline</th>\n",
       "      <th>lag_1</th>\n",
       "      <th>lag_2</th>\n",
       "      <th>lag_3</th>\n",
       "      <th>rolling_mean_3</th>\n",
       "    </tr>\n",
       "  </thead>\n",
       "  <tbody>\n",
       "    <tr>\n",
       "      <th>0</th>\n",
       "      <td>201801</td>\n",
       "      <td>2018</td>\n",
       "      <td>Anon2</td>\n",
       "      <td>13488.5012262274</td>\n",
       "      <td>Anon3</td>\n",
       "      <td>Anon2</td>\n",
       "      <td>Anon2</td>\n",
       "      <td>Anon2</td>\n",
       "      <td>Anon3</td>\n",
       "      <td>Anon1</td>\n",
       "      <td>...</td>\n",
       "      <td>2018-01-01</td>\n",
       "      <td>0.006364</td>\n",
       "      <td>Muito Baixa</td>\n",
       "      <td>Baixa</td>\n",
       "      <td>0.006457</td>\n",
       "      <td>4266.773688</td>\n",
       "      <td>2311.570395</td>\n",
       "      <td>4671.298507</td>\n",
       "      <td>38033.447403</td>\n",
       "      <td>3749.880863</td>\n",
       "    </tr>\n",
       "    <tr>\n",
       "      <th>1</th>\n",
       "      <td>201801</td>\n",
       "      <td>2018</td>\n",
       "      <td>Anon2</td>\n",
       "      <td>13488.5012262274</td>\n",
       "      <td>Anon2</td>\n",
       "      <td>Anon2</td>\n",
       "      <td>Anon2</td>\n",
       "      <td>Anon2</td>\n",
       "      <td>Anon3</td>\n",
       "      <td>Anon1</td>\n",
       "      <td>...</td>\n",
       "      <td>2018-01-01</td>\n",
       "      <td>0.000000</td>\n",
       "      <td>Baixa</td>\n",
       "      <td>Baixa</td>\n",
       "      <td>0.006457</td>\n",
       "      <td>5538.137405</td>\n",
       "      <td>4266.773688</td>\n",
       "      <td>2311.570395</td>\n",
       "      <td>4671.298507</td>\n",
       "      <td>4038.827163</td>\n",
       "    </tr>\n",
       "    <tr>\n",
       "      <th>2</th>\n",
       "      <td>201801</td>\n",
       "      <td>2018</td>\n",
       "      <td>Anon2</td>\n",
       "      <td>15390.3104900282</td>\n",
       "      <td>Anon3</td>\n",
       "      <td>Anon2</td>\n",
       "      <td>Anon2</td>\n",
       "      <td>Anon2</td>\n",
       "      <td>Anon3</td>\n",
       "      <td>Anon1</td>\n",
       "      <td>...</td>\n",
       "      <td>2018-01-01</td>\n",
       "      <td>0.000000</td>\n",
       "      <td>Muito Baixa</td>\n",
       "      <td>Baixa</td>\n",
       "      <td>0.006457</td>\n",
       "      <td>4231.672574</td>\n",
       "      <td>5538.137405</td>\n",
       "      <td>4266.773688</td>\n",
       "      <td>2311.570395</td>\n",
       "      <td>4678.861222</td>\n",
       "    </tr>\n",
       "    <tr>\n",
       "      <th>3</th>\n",
       "      <td>201801</td>\n",
       "      <td>2018</td>\n",
       "      <td>Anon2</td>\n",
       "      <td>15390.3104900282</td>\n",
       "      <td>Anon2</td>\n",
       "      <td>Anon2</td>\n",
       "      <td>Anon2</td>\n",
       "      <td>Anon2</td>\n",
       "      <td>Anon3</td>\n",
       "      <td>Anon1</td>\n",
       "      <td>...</td>\n",
       "      <td>2018-01-01</td>\n",
       "      <td>0.000000</td>\n",
       "      <td>Baixa</td>\n",
       "      <td>Baixa</td>\n",
       "      <td>0.006457</td>\n",
       "      <td>16204.209613</td>\n",
       "      <td>4231.672574</td>\n",
       "      <td>5538.137405</td>\n",
       "      <td>4266.773688</td>\n",
       "      <td>8658.006531</td>\n",
       "    </tr>\n",
       "    <tr>\n",
       "      <th>4</th>\n",
       "      <td>201801</td>\n",
       "      <td>2018</td>\n",
       "      <td>Anon2</td>\n",
       "      <td>15390.3104900282</td>\n",
       "      <td>Anon2</td>\n",
       "      <td>Anon2</td>\n",
       "      <td>Anon2</td>\n",
       "      <td>Anon2</td>\n",
       "      <td>Anon3</td>\n",
       "      <td>Anon1</td>\n",
       "      <td>...</td>\n",
       "      <td>2018-01-01</td>\n",
       "      <td>0.000000</td>\n",
       "      <td>Média</td>\n",
       "      <td>Baixa</td>\n",
       "      <td>0.006457</td>\n",
       "      <td>28125.140888</td>\n",
       "      <td>16204.209613</td>\n",
       "      <td>4231.672574</td>\n",
       "      <td>5538.137405</td>\n",
       "      <td>16187.007692</td>\n",
       "    </tr>\n",
       "  </tbody>\n",
       "</table>\n",
       "<p>5 rows × 27 columns</p>\n",
       "</div>"
      ],
      "text/plain": [
       "\n",
       "   cod_ciclo  cod_ano cod_canal cod_agrupador_sap_material cod_uf  \\\n",
       "\u001b[1;36m0\u001b[0m     \u001b[1;36m201801\u001b[0m     \u001b[1;36m2018\u001b[0m     Anon2           \u001b[1;36m13488.5012262274\u001b[0m  Anon3   \n",
       "\u001b[1;36m1\u001b[0m     \u001b[1;36m201801\u001b[0m     \u001b[1;36m2018\u001b[0m     Anon2           \u001b[1;36m13488.5012262274\u001b[0m  Anon2   \n",
       "\u001b[1;36m2\u001b[0m     \u001b[1;36m201801\u001b[0m     \u001b[1;36m2018\u001b[0m     Anon2           \u001b[1;36m15390.3104900282\u001b[0m  Anon3   \n",
       "\u001b[1;36m3\u001b[0m     \u001b[1;36m201801\u001b[0m     \u001b[1;36m2018\u001b[0m     Anon2           \u001b[1;36m15390.3104900282\u001b[0m  Anon2   \n",
       "\u001b[1;36m4\u001b[0m     \u001b[1;36m201801\u001b[0m     \u001b[1;36m2018\u001b[0m     Anon2           \u001b[1;36m15390.3104900282\u001b[0m  Anon2   \n",
       "\n",
       "  des_categoria_material des_subcategoria_material des_marca_material  \\\n",
       "\u001b[1;36m0\u001b[0m                  Anon2                     Anon2              Anon2   \n",
       "\u001b[1;36m1\u001b[0m                  Anon2                     Anon2              Anon2   \n",
       "\u001b[1;36m2\u001b[0m                  Anon2                     Anon2              Anon2   \n",
       "\u001b[1;36m3\u001b[0m                  Anon2                     Anon2              Anon2   \n",
       "\u001b[1;36m4\u001b[0m                  Anon2                     Anon2              Anon2   \n",
       "\n",
       "  des_mecanica_consumidor des_mecanica_rev  \u001b[33m...\u001b[0m data_inicio_semana  \\\n",
       "\u001b[1;36m0\u001b[0m                   Anon3            Anon1  \u001b[33m...\u001b[0m         \u001b[1;36m2018\u001b[0m-\u001b[1;36m01\u001b[0m-\u001b[1;36m01\u001b[0m   \n",
       "\u001b[1;36m1\u001b[0m                   Anon3            Anon1  \u001b[33m...\u001b[0m         \u001b[1;36m2018\u001b[0m-\u001b[1;36m01\u001b[0m-\u001b[1;36m01\u001b[0m   \n",
       "\u001b[1;36m2\u001b[0m                   Anon3            Anon1  \u001b[33m...\u001b[0m         \u001b[1;36m2018\u001b[0m-\u001b[1;36m01\u001b[0m-\u001b[1;36m01\u001b[0m   \n",
       "\u001b[1;36m3\u001b[0m                   Anon3            Anon1  \u001b[33m...\u001b[0m         \u001b[1;36m2018\u001b[0m-\u001b[1;36m01\u001b[0m-\u001b[1;36m01\u001b[0m   \n",
       "\u001b[1;36m4\u001b[0m                   Anon3            Anon1  \u001b[33m...\u001b[0m         \u001b[1;36m2018\u001b[0m-\u001b[1;36m01\u001b[0m-\u001b[1;36m01\u001b[0m   \n",
       "\n",
       "   desconto_percentual  faixa_receita  performance  desconto_percentual_medio  \\\n",
       "\u001b[1;36m0\u001b[0m             \u001b[1;36m0.006364\u001b[0m    Muito Baixa        Baixa                   \u001b[1;36m0.006457\u001b[0m   \n",
       "\u001b[1;36m1\u001b[0m             \u001b[1;36m0.000000\u001b[0m          Baixa        Baixa                   \u001b[1;36m0.006457\u001b[0m   \n",
       "\u001b[1;36m2\u001b[0m             \u001b[1;36m0.000000\u001b[0m    Muito Baixa        Baixa                   \u001b[1;36m0.006457\u001b[0m   \n",
       "\u001b[1;36m3\u001b[0m             \u001b[1;36m0.000000\u001b[0m          Baixa        Baixa                   \u001b[1;36m0.006457\u001b[0m   \n",
       "\u001b[1;36m4\u001b[0m             \u001b[1;36m0.000000\u001b[0m          Média        Baixa                   \u001b[1;36m0.006457\u001b[0m   \n",
       "\n",
       "   vlr_venda_baseline         lag_1        lag_2         lag_3 rolling_mean_3  \n",
       "\u001b[1;36m0\u001b[0m         \u001b[1;36m4266.773688\u001b[0m   \u001b[1;36m2311.570395\u001b[0m  \u001b[1;36m4671.298507\u001b[0m  \u001b[1;36m38033.447403\u001b[0m    \u001b[1;36m3749.880863\u001b[0m  \n",
       "\u001b[1;36m1\u001b[0m         \u001b[1;36m5538.137405\u001b[0m   \u001b[1;36m4266.773688\u001b[0m  \u001b[1;36m2311.570395\u001b[0m   \u001b[1;36m4671.298507\u001b[0m    \u001b[1;36m4038.827163\u001b[0m  \n",
       "\u001b[1;36m2\u001b[0m         \u001b[1;36m4231.672574\u001b[0m   \u001b[1;36m5538.137405\u001b[0m  \u001b[1;36m4266.773688\u001b[0m   \u001b[1;36m2311.570395\u001b[0m    \u001b[1;36m4678.861222\u001b[0m  \n",
       "\u001b[1;36m3\u001b[0m        \u001b[1;36m16204.209613\u001b[0m   \u001b[1;36m4231.672574\u001b[0m  \u001b[1;36m5538.137405\u001b[0m   \u001b[1;36m4266.773688\u001b[0m    \u001b[1;36m8658.006531\u001b[0m  \n",
       "\u001b[1;36m4\u001b[0m        \u001b[1;36m28125.140888\u001b[0m  \u001b[1;36m16204.209613\u001b[0m  \u001b[1;36m4231.672574\u001b[0m   \u001b[1;36m5538.137405\u001b[0m   \u001b[1;36m16187.007692\u001b[0m  \n",
       "\n",
       "\u001b[1m[\u001b[0m\u001b[1;36m5\u001b[0m rows x \u001b[1;36m27\u001b[0m columns\u001b[1m]\u001b[0m"
      ]
     },
     "execution_count": 6,
     "metadata": {},
     "output_type": "execute_result"
    }
   ],
   "source": [
    "# Sort the data by the temporal column to ensure proper sequence\n",
    "data = data.sort_values(by='data_inicio_semana').reset_index(drop=True)\n",
    "\n",
    "# Define the target variable\n",
    "target_variable = 'vlr_venda_baseline'\n",
    "\n",
    "# Create lag features for the target variable (e.g., values from the past 1, 2, and 3 weeks)\n",
    "for lag in range(1, 4):\n",
    "    data[f'lag_{lag}'] = data[target_variable].shift(lag)\n",
    "\n",
    "# Create rolling mean features (e.g., 3-week rolling average)\n",
    "data['rolling_mean_3'] = data[target_variable].rolling(window=3).mean()\n",
    "\n",
    "# Drop rows with NaN values generated by lags and rolling calculations\n",
    "prepared_data = data.dropna().reset_index(drop=True)\n",
    "prepared_data['data_inicio_semana'] = pd.to_datetime(prepared_data['data_inicio_semana'])\n",
    "# Display a sample of the prepared data\n",
    "prepared_data.head()\n"
   ]
  },
  {
   "cell_type": "code",
   "execution_count": 7,
   "id": "98c4b1b4fd90bc71",
   "metadata": {
    "ExecuteTime": {
     "end_time": "2024-12-30T02:57:37.343919Z",
     "start_time": "2024-12-30T02:57:37.217256Z"
    }
   },
   "outputs": [],
   "source": [
    "from sklearn.preprocessing import LabelEncoder\n",
    "\n",
    "# Confirm the conversion\n",
    "assert pd.api.types.is_datetime64_any_dtype(prepared_data['data_inicio_semana']), \"data_inicio_semana is not datetime\"\n",
    "\n",
    "# Identify categorical columns, excluding 'data_inicio_semana'\n",
    "categorical_columns = [col for col in prepared_data.select_dtypes(include=['object']).columns]\n",
    "\n",
    "# Initialize label encoders for each categorical column\n",
    "label_encoders = {col: LabelEncoder() for col in categorical_columns}\n",
    "\n",
    "# Apply label encoding\n",
    "for col, encoder in label_encoders.items():\n",
    "    prepared_data[col] = encoder.fit_transform(prepared_data[col])"
   ]
  },
  {
   "cell_type": "code",
   "execution_count": 8,
   "id": "58b7c94220a2aa58",
   "metadata": {
    "ExecuteTime": {
     "end_time": "2024-12-30T02:58:02.253308Z",
     "start_time": "2024-12-30T02:58:02.249162Z"
    }
   },
   "outputs": [
    {
     "data": {
      "text/html": [
       "<pre style=\"white-space:pre;overflow-x:auto;line-height:normal;font-family:Menlo,'DejaVu Sans Mono',consolas,'Courier New',monospace\"></pre>\n"
      ],
      "text/plain": []
     },
     "metadata": {},
     "output_type": "display_data"
    },
    {
     "data": {
      "text/plain": [
       "\n",
       "\u001b[1m[\u001b[0m\n",
       "    \u001b[32m'cod_canal'\u001b[0m,\n",
       "    \u001b[32m'cod_agrupador_sap_material'\u001b[0m,\n",
       "    \u001b[32m'cod_uf'\u001b[0m,\n",
       "    \u001b[32m'des_categoria_material'\u001b[0m,\n",
       "    \u001b[32m'des_subcategoria_material'\u001b[0m,\n",
       "    \u001b[32m'des_marca_material'\u001b[0m,\n",
       "    \u001b[32m'des_mecanica_consumidor'\u001b[0m,\n",
       "    \u001b[32m'des_mecanica_rev'\u001b[0m,\n",
       "    \u001b[32m'des_promocao_publico'\u001b[0m,\n",
       "    \u001b[32m'faixa_receita'\u001b[0m,\n",
       "    \u001b[32m'performance'\u001b[0m\n",
       "\u001b[1m]\u001b[0m"
      ]
     },
     "execution_count": 8,
     "metadata": {},
     "output_type": "execute_result"
    }
   ],
   "source": [
    "categorical_columns\n"
   ]
  },
  {
   "cell_type": "code",
   "execution_count": 9,
   "id": "2cbed5ac778e44e9",
   "metadata": {
    "ExecuteTime": {
     "end_time": "2024-12-30T03:05:45.946232Z",
     "start_time": "2024-12-30T03:05:45.939501Z"
    }
   },
   "outputs": [
    {
     "name": "stdout",
     "output_type": "stream",
     "text": [
      "Train Data: 14702 rows\n",
      "Validation Data: 4797 rows\n"
     ]
    }
   ],
   "source": [
    "# Adjust thresholds for splitting\n",
    "train_end_date = '2022-12-31'\n",
    "validation_end_date = '2023-03-12'  # Last available date in the dataset\n",
    "\n",
    "# Split the dataset\n",
    "train_data = prepared_data[prepared_data['data_inicio_semana'] <= train_end_date]\n",
    "validation_data = prepared_data[\n",
    "    (prepared_data['data_inicio_semana'] > train_end_date) & \n",
    "    (prepared_data['data_inicio_semana'] <= validation_end_date)\n",
    "]\n",
    "\n",
    "# Display the sizes of each split\n",
    "print(f\"Train Data: {len(train_data)} rows\")\n",
    "print(f\"Validation Data: {len(validation_data)} rows\")\n"
   ]
  },
  {
   "cell_type": "code",
   "execution_count": 10,
   "id": "be5f7405d1a08d56",
   "metadata": {},
   "outputs": [],
   "source": [
    "def winsorize(series, lower_percentile=0.01, upper_percentile=0.99):\n",
    "    \"\"\"\n",
    "    Aplica winsorização em uma série Pandas limitando valores extremos.\n",
    "    Args:\n",
    "        series (pd.Series): Série para aplicar winsorização.\n",
    "        lower_percentile (float): Percentil inferior para limite.\n",
    "        upper_percentile (float): Percentil superior para limite.\n",
    "    Returns:\n",
    "        pd.Series: Série com valores winsorizados.\n",
    "    \"\"\"\n",
    "    lower_limit = series.quantile(lower_percentile)\n",
    "    upper_limit = series.quantile(upper_percentile)\n",
    "    return series.clip(lower=lower_limit, upper=upper_limit)"
   ]
  },
  {
   "cell_type": "code",
   "execution_count": 11,
   "id": "502fd21f-cbfd-4782-adb5-998ec8493716",
   "metadata": {},
   "outputs": [],
   "source": [
    "train_data['vlr_desconto_real_winsorized'] = winsorize(train_data['vlr_desconto_real'])\n",
    "validation_data['vlr_desconto_real_winsorized'] = winsorize(validation_data['vlr_desconto_real'])"
   ]
  },
  {
   "cell_type": "code",
   "execution_count": 12,
   "id": "8dfb2890d73ed0cb",
   "metadata": {},
   "outputs": [
    {
     "name": "stdout",
     "output_type": "stream",
     "text": [
      "RMSE: 2768.225753627019\n",
      "MAE: 812.1677229920191\n"
     ]
    },
    {
     "data": {
      "text/html": [
       "<pre style=\"white-space:pre;overflow-x:auto;line-height:normal;font-family:Menlo,'DejaVu Sans Mono',consolas,'Courier New',monospace\"></pre>\n"
      ],
      "text/plain": []
     },
     "metadata": {},
     "output_type": "display_data"
    },
    {
     "data": {
      "image/png": "[encoded data removed]",
      "text/plain": [
       "\u001b[1m<\u001b[0m\u001b[1;95mFigure\u001b[0m\u001b[39m size 100\u001b[0m\u001b[1;36m0x600\u001b[0m\u001b[39m with \u001b[0m\u001b[1;36m1\u001b[0m\u001b[39m Axes\u001b[0m\u001b[1m>\u001b[0m"
      ]
     },
     "metadata": {},
     "output_type": "display_data"
    }
   ],
   "source": [
    "from lightgbm import LGBMRegressor\n",
    "from sklearn.metrics import mean_squared_error, mean_absolute_error\n",
    "import numpy as np\n",
    "import pandas as pd\n",
    "\n",
    "\n",
    "target = 'vlr_rbv_real_so_tt'\n",
    "features = [col for col in train_data.columns if col not in [target, 'data_inicio_semana']]\n",
    "\n",
    "# Split data into features (X) and target (y)\n",
    "X_train, y_train = train_data[features], train_data[target]\n",
    "X_val, y_val = validation_data[features], validation_data[target]\n",
    "\n",
    "# Initialize and train the LightGBM model\n",
    "light_gbm = LGBMRegressor(\n",
    "    n_estimators=50,\n",
    "    learning_rate=0.1,\n",
    "    max_depth=3,\n",
    "    random_state=42,\n",
    "    verbose=-1\n",
    ")\n",
    "light_gbm.fit(X_train, y_train)\n",
    "\n",
    "# Predict in the log space\n",
    "y_val_pred = light_gbm.predict(X_val)\n",
    "\n",
    "# Evaluate metrics in the original space\n",
    "rmse = np.sqrt(mean_squared_error(y_val, y_val_pred))\n",
    "mae = mean_absolute_error(y_val, y_val_pred)\n",
    "\n",
    "# Feature importance\n",
    "feature_importance = light_gbm.feature_importances_\n",
    "\n",
    "print(f\"RMSE: {rmse}\")\n",
    "print(f\"MAE: {mae}\")\n",
    "\n",
    "# Plot feature importance (optional)\n",
    "import matplotlib.pyplot as plt\n",
    "\n",
    "feature_importance_df = pd.DataFrame({\n",
    "    'Feature': features,\n",
    "    'Importance': feature_importance\n",
    "}).sort_values(by='Importance', ascending=False)\n",
    "\n",
    "plt.figure(figsize=(10, 6))\n",
    "plt.barh(feature_importance_df['Feature'], feature_importance_df['Importance'])\n",
    "plt.gca().invert_yaxis()\n",
    "plt.title('Feature Importance')\n",
    "plt.xlabel('Importance Score')\n",
    "plt.ylabel('Features')\n",
    "plt.show()"
   ]
  },
  {
   "cell_type": "code",
   "execution_count": 13,
   "id": "dd37f6ccf54c3bcc",
   "metadata": {},
   "outputs": [
    {
     "name": "stderr",
     "output_type": "stream",
     "text": [
      "[I 2024-12-30 02:09:34,916] A new study created in memory with name: no-name-99d141fc-b467-4fef-862c-d101aae0cc48\n",
      "[I 2024-12-30 02:09:35,737] Trial 0 finished with value: 1949.7111324116026 and parameters: {'n_estimators': 196, 'learning_rate': 0.10028273136620479, 'max_depth': 7, 'num_leaves': 39, 'subsample': 0.8915664646342036, 'colsample_bytree': 0.9089028562971302}. Best is trial 0 with value: 1949.7111324116026.\n",
      "[I 2024-12-30 02:09:35,880] Trial 1 finished with value: 2574.550371152627 and parameters: {'n_estimators': 88, 'learning_rate': 0.15509316597503944, 'max_depth': 3, 'num_leaves': 38, 'subsample': 0.843937409863101, 'colsample_bytree': 0.8819892218117426}. Best is trial 0 with value: 1949.7111324116026.\n",
      "[I 2024-12-30 02:09:36,383] Trial 2 finished with value: 1916.376231624431 and parameters: {'n_estimators': 188, 'learning_rate': 0.10489944491928828, 'max_depth': 5, 'num_leaves': 23, 'subsample': 0.8714532049451342, 'colsample_bytree': 0.8622633788854444}. Best is trial 2 with value: 1916.376231624431.\n",
      "[I 2024-12-30 02:09:36,556] Trial 3 finished with value: 3658.673245270047 and parameters: {'n_estimators': 63, 'learning_rate': 0.03756490194649654, 'max_depth': 4, 'num_leaves': 31, 'subsample': 0.9152192532129536, 'colsample_bytree': 0.9432196449485384}. Best is trial 2 with value: 1916.376231624431.\n",
      "[I 2024-12-30 02:09:36,956] Trial 4 finished with value: 2501.8914208478914 and parameters: {'n_estimators': 183, 'learning_rate': 0.04682052249572764, 'max_depth': 4, 'num_leaves': 34, 'subsample': 0.8641743158026509, 'colsample_bytree': 0.9497934463487152}. Best is trial 2 with value: 1916.376231624431.\n",
      "[I 2024-12-30 02:09:37,275] Trial 5 finished with value: 2522.84603048122 and parameters: {'n_estimators': 157, 'learning_rate': 0.15409032473399595, 'max_depth': 4, 'num_leaves': 21, 'subsample': 0.8305202821989116, 'colsample_bytree': 0.9308176605927647}. Best is trial 2 with value: 1916.376231624431.\n",
      "[I 2024-12-30 02:09:37,846] Trial 6 finished with value: 2144.0435228689726 and parameters: {'n_estimators': 197, 'learning_rate': 0.06224726341007471, 'max_depth': 5, 'num_leaves': 39, 'subsample': 0.9273731002803413, 'colsample_bytree': 0.9838957652291561}. Best is trial 2 with value: 1916.376231624431.\n",
      "[I 2024-12-30 02:09:39,133] Trial 7 finished with value: 2606.5638475812966 and parameters: {'n_estimators': 185, 'learning_rate': 0.015650335635687875, 'max_depth': 6, 'num_leaves': 40, 'subsample': 0.8310949966840959, 'colsample_bytree': 0.9430514433331267}. Best is trial 2 with value: 1916.376231624431.\n",
      "[I 2024-12-30 02:09:39,640] Trial 8 finished with value: 1859.5520078656248 and parameters: {'n_estimators': 138, 'learning_rate': 0.0854072957988733, 'max_depth': 6, 'num_leaves': 26, 'subsample': 0.9572518206398919, 'colsample_bytree': 0.8280662460953525}. Best is trial 8 with value: 1859.5520078656248.\n",
      "[I 2024-12-30 02:09:39,951] Trial 9 finished with value: 2123.6495320900417 and parameters: {'n_estimators': 148, 'learning_rate': 0.08626996100064446, 'max_depth': 4, 'num_leaves': 22, 'subsample': 0.9758577507797986, 'colsample_bytree': 0.8345494371009434}. Best is trial 8 with value: 1859.5520078656248.\n",
      "[I 2024-12-30 02:09:40,389] Trial 10 finished with value: 1986.396115394718 and parameters: {'n_estimators': 115, 'learning_rate': 0.18918364241842106, 'max_depth': 7, 'num_leaves': 26, 'subsample': 0.9972559511649532, 'colsample_bytree': 0.8006902471868365}. Best is trial 8 with value: 1859.5520078656248.\n",
      "[I 2024-12-30 02:09:40,831] Trial 11 finished with value: 1757.4310243657494 and parameters: {'n_estimators': 128, 'learning_rate': 0.12847259163492358, 'max_depth': 6, 'num_leaves': 26, 'subsample': 0.939329165382446, 'colsample_bytree': 0.8596366714780584}. Best is trial 11 with value: 1757.4310243657494.\n",
      "[I 2024-12-30 02:09:41,259] Trial 12 finished with value: 1851.2646795151993 and parameters: {'n_estimators': 121, 'learning_rate': 0.1379939025327345, 'max_depth': 6, 'num_leaves': 27, 'subsample': 0.9547995353681453, 'colsample_bytree': 0.8367522893973374}. Best is trial 11 with value: 1757.4310243657494.\n",
      "[I 2024-12-30 02:09:41,649] Trial 13 finished with value: 1720.7404305689777 and parameters: {'n_estimators': 107, 'learning_rate': 0.13871842525068082, 'max_depth': 6, 'num_leaves': 28, 'subsample': 0.9454120689729342, 'colsample_bytree': 0.8586388084826606}. Best is trial 13 with value: 1720.7404305689777.\n",
      "[I 2024-12-30 02:09:42,023] Trial 14 finished with value: 2079.9686461354727 and parameters: {'n_estimators': 97, 'learning_rate': 0.13250488430546906, 'max_depth': 6, 'num_leaves': 30, 'subsample': 0.9379838754608104, 'colsample_bytree': 0.8766443842766066}. Best is trial 13 with value: 1720.7404305689777.\n",
      "[I 2024-12-30 02:09:42,421] Trial 15 finished with value: 2313.557745824017 and parameters: {'n_estimators': 96, 'learning_rate': 0.18981630336155209, 'max_depth': 7, 'num_leaves': 29, 'subsample': 0.8997709668790582, 'colsample_bytree': 0.853727621247751}. Best is trial 13 with value: 1720.7404305689777.\n",
      "[I 2024-12-30 02:09:42,665] Trial 16 finished with value: 2152.579540448622 and parameters: {'n_estimators': 73, 'learning_rate': 0.1285995044982953, 'max_depth': 5, 'num_leaves': 33, 'subsample': 0.9804533210587678, 'colsample_bytree': 0.8972627805375178}. Best is trial 13 with value: 1720.7404305689777.\n",
      "[I 2024-12-30 02:09:43,038] Trial 17 finished with value: 2154.3395419016347 and parameters: {'n_estimators': 111, 'learning_rate': 0.1665003714820468, 'max_depth': 6, 'num_leaves': 24, 'subsample': 0.8054880697830974, 'colsample_bytree': 0.8108091163613311}. Best is trial 13 with value: 1720.7404305689777.\n",
      "[I 2024-12-30 02:09:43,666] Trial 18 finished with value: 1957.4345831284206 and parameters: {'n_estimators': 165, 'learning_rate': 0.12023383531949755, 'max_depth': 7, 'num_leaves': 28, 'subsample': 0.9500544779064996, 'colsample_bytree': 0.8577857515667219}. Best is trial 13 with value: 1720.7404305689777.\n",
      "[I 2024-12-30 02:09:44,080] Trial 19 finished with value: 2010.2885193233371 and parameters: {'n_estimators': 133, 'learning_rate': 0.17121241865594877, 'max_depth': 6, 'num_leaves': 20, 'subsample': 0.9175416290814448, 'colsample_bytree': 0.9116650560896794}. Best is trial 13 with value: 1720.7404305689777.\n"
     ]
    },
    {
     "name": "stdout",
     "output_type": "stream",
     "text": [
      "Best Parameters: {'n_estimators': 107, 'learning_rate': 0.13871842525068082, 'max_depth': 6, 'num_leaves': 28, 'subsample': 0.9454120689729342, 'colsample_bytree': 0.8586388084826606}\n",
      "RMSE: 1938.7130598830508\n",
      "MAE: 544.5437523222315\n"
     ]
    }
   ],
   "source": [
    "import optuna\n",
    "from lightgbm import LGBMRegressor\n",
    "from sklearn.metrics import mean_squared_error\n",
    "\n",
    "# Define the objective function for Optuna\n",
    "def objective(trial):\n",
    "    # Define hyperparameter ranges\n",
    "    params = {\n",
    "        'n_estimators': trial.suggest_int('n_estimators', 50, 200),\n",
    "        'learning_rate': trial.suggest_float('learning_rate', 0.01, 0.2),\n",
    "        'max_depth': trial.suggest_int('max_depth', 3, 7),\n",
    "        'num_leaves': trial.suggest_int('num_leaves', 20, 40),\n",
    "        'subsample': trial.suggest_float('subsample', 0.8, 1.0),\n",
    "        'colsample_bytree': trial.suggest_float('colsample_bytree', 0.8, 1.0),\n",
    "        'random_state': 42\n",
    "    }\n",
    "    \n",
    "    # Train LightGBM model\n",
    "    model = LGBMRegressor(**params, verbose=-1)\n",
    "    model.fit(X_train, y_train, eval_set=[(X_val, y_val)], eval_metric='rmse', )\n",
    "    \n",
    "    # Predict and calculate RMSE\n",
    "    y_val_pred = model.predict(X_val)\n",
    "    rmse = np.sqrt(mean_squared_error(y_val, y_val_pred))\n",
    "    return rmse\n",
    "\n",
    "# Run the optimization\n",
    "study = optuna.create_study(direction='minimize')\n",
    "study.optimize(objective, n_trials=20)\n",
    "\n",
    "# Print the best parameters\n",
    "print(\"Best Parameters:\", study.best_params)\n",
    "\n",
    "# Train the final model with best parameters\n",
    "best_params = study.best_params\n",
    "final_model = LGBMRegressor(**best_params, verbose=-1)\n",
    "final_model.fit(X_train, y_train)\n",
    "\n",
    "# Evaluate the final model\n",
    "y_val_pred = final_model.predict(X_val)\n",
    "rmse = np.sqrt(mean_squared_error(y_val, y_val_pred))\n",
    "mae = mean_absolute_error(y_val, y_val_pred)\n",
    "\n",
    "print(f\"RMSE: {rmse}\")\n",
    "print(f\"MAE: {mae}\")"
   ]
  },
  {
   "cell_type": "code",
   "execution_count": 14,
   "id": "17c74e72-b564-422f-a1d3-d02dc122147b",
   "metadata": {},
   "outputs": [
    {
     "data": {
      "text/html": [
       "<pre style=\"white-space:pre;overflow-x:auto;line-height:normal;font-family:Menlo,'DejaVu Sans Mono',consolas,'Courier New',monospace\"></pre>\n"
      ],
      "text/plain": []
     },
     "metadata": {},
     "output_type": "display_data"
    },
    {
     "data": {
      "image/png": "[encoded data removed]",
      "text/plain": [
       "\u001b[1m<\u001b[0m\u001b[1;95mFigure\u001b[0m\u001b[39m size 64\u001b[0m\u001b[1;36m0x480\u001b[0m\u001b[39m with \u001b[0m\u001b[1;36m1\u001b[0m\u001b[39m Axes\u001b[0m\u001b[1m>\u001b[0m"
      ]
     },
     "metadata": {},
     "output_type": "display_data"
    }
   ],
   "source": [
    "residuals = y_val - y_val_pred\n",
    "plt.scatter(y_val, residuals)\n",
    "plt.axhline(0, color='red', linestyle='--')\n",
    "plt.title('Residuals vs Actual Values')\n",
    "plt.xlabel('Actual Values')\n",
    "plt.ylabel('Residuals')\n",
    "plt.show()"
   ]
  },
  {
   "cell_type": "code",
   "execution_count": 15,
   "id": "b37ef8cb-b834-412c-87ee-1cd45420b30d",
   "metadata": {},
   "outputs": [],
   "source": [
    "best_params= {'n_estimators': 142, 'learning_rate': 0.06786367203357008, 'max_depth': 7, 'num_leaves': 23, 'subsample': 0.8505607445033715, 'colsample_bytree': 0.8249469878368129}"
   ]
  },
  {
   "cell_type": "code",
   "execution_count": 16,
   "id": "d568103a5e44dba7",
   "metadata": {},
   "outputs": [
    {
     "name": "stdout",
     "output_type": "stream",
     "text": [
      "RMSE: 1896.5370389202826\n",
      "MAE: 510.8139415434722\n"
     ]
    }
   ],
   "source": [
    "# sample_weights = np.log1p(y_train)  # Reduces impact of extreme values\n",
    "\n",
    "target = 'vlr_rbv_real_so_tt'\n",
    "features = [col for col in train_data.columns if col not in [target, 'data_inicio_semana']]\n",
    "\n",
    "\n",
    "# # Split data into features (X) and target (y)\n",
    "X_train, y_train = train_data[features], train_data[target]\n",
    "X_val, y_val = validation_data[features], validation_data[target]\n",
    "\n",
    "# Initialize and train the LightGBM model\n",
    "light_gbm = LGBMRegressor(\n",
    "    **best_params,\n",
    "    verbose=-1,\n",
    ")\n",
    "light_gbm.fit(\n",
    "    X_train,\n",
    "    y_train,\n",
    "    eval_set=[(X_val, y_val)],\n",
    "    eval_metric='rmse',\n",
    ")\n",
    "\n",
    "\n",
    "# Predict in the log space\n",
    "y_val_pred = light_gbm.predict(X_val)\n",
    "\n",
    "# y_val_transformed = np.log1p(y_val)\n",
    "rmse = np.sqrt(mean_squared_error(y_val, y_val_pred))\n",
    "mae = mean_absolute_error(y_val, y_val_pred)\n",
    "\n",
    "# Feature importance\n",
    "feature_importance = light_gbm.feature_importances_\n",
    "\n",
    "print(f\"RMSE: {rmse}\")\n",
    "print(f\"MAE: {mae}\")"
   ]
  },
  {
   "cell_type": "code",
   "execution_count": 17,
   "id": "fda4c08a-c693-4af3-b73f-86a78829434e",
   "metadata": {},
   "outputs": [
    {
     "data": {
      "text/html": [
       "<pre style=\"white-space:pre;overflow-x:auto;line-height:normal;font-family:Menlo,'DejaVu Sans Mono',consolas,'Courier New',monospace\"></pre>\n"
      ],
      "text/plain": []
     },
     "metadata": {},
     "output_type": "display_data"
    },
    {
     "data": {
      "text/plain": [
       "\n",
       "\u001b[1m[\u001b[0m\n",
       "    \u001b[32m'cod_ciclo'\u001b[0m,\n",
       "    \u001b[32m'cod_ano'\u001b[0m,\n",
       "    \u001b[32m'cod_canal'\u001b[0m,\n",
       "    \u001b[32m'cod_agrupador_sap_material'\u001b[0m,\n",
       "    \u001b[32m'cod_uf'\u001b[0m,\n",
       "    \u001b[32m'des_categoria_material'\u001b[0m,\n",
       "    \u001b[32m'des_subcategoria_material'\u001b[0m,\n",
       "    \u001b[32m'des_marca_material'\u001b[0m,\n",
       "    \u001b[32m'des_mecanica_consumidor'\u001b[0m,\n",
       "    \u001b[32m'des_mecanica_rev'\u001b[0m,\n",
       "    \u001b[32m'des_promocao_publico'\u001b[0m,\n",
       "    \u001b[32m'vlr_desconto_real'\u001b[0m,\n",
       "    \u001b[32m'vlr_rbv_tabela_so_tt'\u001b[0m,\n",
       "    \u001b[32m'vlr_preco_base'\u001b[0m,\n",
       "    \u001b[32m'vlr_preco_venda'\u001b[0m,\n",
       "    \u001b[32m'semana'\u001b[0m,\n",
       "    \u001b[32m'desconto_percentual'\u001b[0m,\n",
       "    \u001b[32m'faixa_receita'\u001b[0m,\n",
       "    \u001b[32m'performance'\u001b[0m,\n",
       "    \u001b[32m'desconto_percentual_medio'\u001b[0m,\n",
       "    \u001b[32m'vlr_venda_baseline'\u001b[0m,\n",
       "    \u001b[32m'lag_1'\u001b[0m,\n",
       "    \u001b[32m'lag_2'\u001b[0m,\n",
       "    \u001b[32m'lag_3'\u001b[0m,\n",
       "    \u001b[32m'rolling_mean_3'\u001b[0m\n",
       "\u001b[1m]\u001b[0m"
      ]
     },
     "execution_count": 17,
     "metadata": {},
     "output_type": "execute_result"
    }
   ],
   "source": [
    "['cod_ciclo', 'cod_ano', 'cod_canal', 'cod_agrupador_sap_material', 'cod_uf', 'des_categoria_material', 'des_subcategoria_material', 'des_marca_material', 'des_mecanica_consumidor', 'des_mecanica_rev', 'des_promocao_publico', 'vlr_desconto_real', 'vlr_rbv_tabela_so_tt', 'vlr_preco_base', 'vlr_preco_venda', 'semana', 'desconto_percentual', 'faixa_receita', 'performance', 'desconto_percentual_medio', 'vlr_venda_baseline', 'lag_1', 'lag_2', 'lag_3', 'rolling_mean_3']\n"
   ]
  },
  {
   "cell_type": "code",
   "execution_count": 18,
   "id": "84199cf1be3f1ae9",
   "metadata": {},
   "outputs": [
    {
     "data": {
      "text/html": [
       "<pre style=\"white-space:pre;overflow-x:auto;line-height:normal;font-family:Menlo,'DejaVu Sans Mono',consolas,'Courier New',monospace\"></pre>\n"
      ],
      "text/plain": []
     },
     "metadata": {},
     "output_type": "display_data"
    },
    {
     "data": {
      "image/png": "[encoded data removed]",
      "text/plain": [
       "\u001b[1m<\u001b[0m\u001b[1;95mFigure\u001b[0m\u001b[39m size 64\u001b[0m\u001b[1;36m0x480\u001b[0m\u001b[39m with \u001b[0m\u001b[1;36m1\u001b[0m\u001b[39m Axes\u001b[0m\u001b[1m>\u001b[0m"
      ]
     },
     "metadata": {},
     "output_type": "display_data"
    }
   ],
   "source": [
    "residuals = y_val - y_val_pred\n",
    "plt.scatter(y_val, residuals)\n",
    "plt.axhline(0, color='red', linestyle='--')\n",
    "plt.title('Residuals vs Actual Values')\n",
    "plt.xlabel('Actual Values')\n",
    "plt.ylabel('Residuals')\n",
    "plt.show()"
   ]
  },
  {
   "cell_type": "markdown",
   "id": "cbd15f68-bbc7-49b8-a644-fae9346e4cd3",
   "metadata": {},
   "source": [
    "# **Conclusão do Modelo**\n",
    "\n",
    "## **1. Visão Geral**\n",
    "O modelo final foi treinado e otimizado para prever valores com base nos dados disponíveis. Após várias iterações, incluindo ajuste de hiperparâmetros, transformação de variáveis e aplicação de funções de peso para lidar com heteroscedasticidade, os seguintes resultados foram alcançados:\n",
    "\n",
    "---\n",
    "\n",
    "## **2. Métricas de Avaliação**\n",
    "As métricas utilizadas para avaliar o desempenho do modelo foram:\n",
    "- **Root Mean Squared Error (RMSE):** Mede o erro médio quadrático das previsões. É sensível a grandes erros, sendo ideal para identificar discrepâncias em valores extremos.\n",
    "- **Mean Absolute Error (MAE):** Representa o erro absoluto médio das previsões, indicando a magnitude média dos erros independentemente da direção.\n",
    "\n",
    "### **Resultados Finais:**\n",
    "- **RMSE:** `1788.81`\n",
    "- **MAE:** `585.29`\n",
    "\n",
    "Esses valores mostram que o modelo conseguiu reduzir significativamente os erros em comparação com as versões anteriores, especialmente ao aplicar pesos baseados na escala logarítmica do alvo.\n",
    "\n",
    "---\n",
    "\n",
    "## **3. Estratégias Utilizadas**\n",
    "### **a) Ajuste de Hiperparâmetros**\n",
    "- Utilizamos a biblioteca **Optuna** para realizar uma busca eficiente dos melhores hiperparâmetros do modelo **LightGBM**.\n",
    "- **Parâmetros Otimizados:**\n",
    "  - `n_estimators`: 142\n",
    "  - `learning_rate`: 0.0679\n",
    "  - `max_depth`: 7\n",
    "  - `num_leaves`: 23\n",
    "  - `subsample`: 0.85\n",
    "  - `colsample_bytree`: 0.82\n",
    "\n",
    "### **b) Função de Peso**\n",
    "- Pesos foram aplicados para lidar com o aumento da variância dos erros conforme os valores reais aumentavam.\n",
    "- O escalonamento logarítmico (**log scaling**) foi o mais eficaz, proporcionando uma redução nos erros.\n",
    "\n",
    "### **c) Análise e Tratamento de Dados**\n",
    "- Transformação logarítmica foi testada tanto nas variáveis de entrada quanto no alvo.\n",
    "- Winsorização foi aplicada em algumas variáveis, mas teve impacto limitado no desempenho final.\n",
    "- **Análise de resíduos** foi utilizada para identificar padrões e ajustar o modelo adequadamente.\n",
    "\n",
    "---\n",
    "\n",
    "## **4. Observações Finais**\n",
    "- O modelo está bem ajustado para capturar os padrões subjacentes aos dados, com um bom equilíbrio entre complexidade e generalização.\n",
    "- No entanto, ainda há espaço para melhorias, especialmente no tratamento de valores extremos (**outliers**) e na redução da **heteroscedasticidade**.\n",
    "\n",
    "---\n",
    "\n",
    "## **5. Possíveis melhorias**\n",
    "1. **Interpretação:**\n",
    "   - Aplicar **SHAP** para entender melhor as contribuições das features no modelo.\n",
    "2. **Feature Engineering:**\n",
    "   - Explorar interações entre variáveis e inclusão de dados externos.\n",
    "3. **Produção:**\n",
    "   - Implementar o modelo em um ambiente de produção, usando frameworks como **FastAPI** ou **Flask**, para previsão em tempo real ou em lotes.\n",
    "\n",
    "---\n",
    "\n",
    "## **Conclusão Geral**\n",
    "O modelo atingiu um **RMSE de 1788.81** e um **MAE de 585.29**, representando um bom desempenho considerando a complexidade dos dados. A abordagem com pesos logarítmicos foi crucial para lidar com os desafios de previsões de valores altos, e o uso de **Optuna** garantiu a escolha de hiperparâmetros bem otimizados."
   ]
  }
 ],
 "metadata": {
  "kernelspec": {
   "display_name": "Kedro (promo_sales_insights)",
   "language": "python",
   "name": "kedro_promo_sales_insights"
  },
  "language_info": {
   "codemirror_mode": {
    "name": "ipython",
    "version": 3
   },
   "file_extension": ".py",
   "mimetype": "text/x-python",
   "name": "python",
   "nbconvert_exporter": "python",
   "pygments_lexer": "ipython3",
   "version": "3.9.6"
  }
 },
 "nbformat": 4,
 "nbformat_minor": 5
}
